{
 "cells": [
  {
   "cell_type": "code",
   "execution_count": 1,
   "id": "1c01ad7b",
   "metadata": {
    "_cell_guid": "b1076dfc-b9ad-4769-8c92-a6c4dae69d19",
    "_uuid": "8f2839f25d086af736a60e9eeb907d3b93b6e0e5",
    "execution": {
     "iopub.execute_input": "2023-10-12T19:34:26.498262Z",
     "iopub.status.busy": "2023-10-12T19:34:26.497810Z",
     "iopub.status.idle": "2023-10-12T19:34:29.700235Z",
     "shell.execute_reply": "2023-10-12T19:34:29.699103Z"
    },
    "papermill": {
     "duration": 3.212489,
     "end_time": "2023-10-12T19:34:29.702546",
     "exception": false,
     "start_time": "2023-10-12T19:34:26.490057",
     "status": "completed"
    },
    "tags": []
   },
   "outputs": [
    {
     "name": "stdout",
     "output_type": "stream",
     "text": [
      "/kaggle/input/laptop-price/laptop_price.csv\n"
     ]
    }
   ],
   "source": [
    "import numpy as np\n",
    "import pandas as pd\n",
    "import seaborn as sns\n",
    "import matplotlib.pyplot as plt\n",
    "from sklearn.preprocessing import StandardScaler\n",
    "from category_encoders import OneHotEncoder\n",
    "from sklearn.ensemble import RandomForestRegressor\n",
    "from sklearn.model_selection import train_test_split\n",
    "from sklearn.model_selection import GridSearchCV\n",
    "\n",
    "import os\n",
    "for dirname, _, filenames in os.walk('/kaggle/input'):\n",
    "    for filename in filenames:\n",
    "        print(os.path.join(dirname, filename))"
   ]
  },
  {
   "cell_type": "code",
   "execution_count": 2,
   "id": "de86d226",
   "metadata": {
    "execution": {
     "iopub.execute_input": "2023-10-12T19:34:29.716874Z",
     "iopub.status.busy": "2023-10-12T19:34:29.715855Z",
     "iopub.status.idle": "2023-10-12T19:34:29.751015Z",
     "shell.execute_reply": "2023-10-12T19:34:29.749856Z"
    },
    "papermill": {
     "duration": 0.04487,
     "end_time": "2023-10-12T19:34:29.753565",
     "exception": false,
     "start_time": "2023-10-12T19:34:29.708695",
     "status": "completed"
    },
    "tags": []
   },
   "outputs": [],
   "source": [
    "data=pd.read_csv(\"/kaggle/input/laptop-price/laptop_price.csv\", encoding=\"latin-1\")"
   ]
  },
  {
   "cell_type": "code",
   "execution_count": 3,
   "id": "bf580f0f",
   "metadata": {
    "execution": {
     "iopub.execute_input": "2023-10-12T19:34:29.767769Z",
     "iopub.status.busy": "2023-10-12T19:34:29.766884Z",
     "iopub.status.idle": "2023-10-12T19:34:29.794454Z",
     "shell.execute_reply": "2023-10-12T19:34:29.793694Z"
    },
    "papermill": {
     "duration": 0.03653,
     "end_time": "2023-10-12T19:34:29.796244",
     "exception": false,
     "start_time": "2023-10-12T19:34:29.759714",
     "status": "completed"
    },
    "tags": []
   },
   "outputs": [
    {
     "data": {
      "text/html": [
       "<div>\n",
       "<style scoped>\n",
       "    .dataframe tbody tr th:only-of-type {\n",
       "        vertical-align: middle;\n",
       "    }\n",
       "\n",
       "    .dataframe tbody tr th {\n",
       "        vertical-align: top;\n",
       "    }\n",
       "\n",
       "    .dataframe thead th {\n",
       "        text-align: right;\n",
       "    }\n",
       "</style>\n",
       "<table border=\"1\" class=\"dataframe\">\n",
       "  <thead>\n",
       "    <tr style=\"text-align: right;\">\n",
       "      <th></th>\n",
       "      <th>laptop_ID</th>\n",
       "      <th>Company</th>\n",
       "      <th>Product</th>\n",
       "      <th>TypeName</th>\n",
       "      <th>Inches</th>\n",
       "      <th>ScreenResolution</th>\n",
       "      <th>Cpu</th>\n",
       "      <th>Ram</th>\n",
       "      <th>Memory</th>\n",
       "      <th>Gpu</th>\n",
       "      <th>OpSys</th>\n",
       "      <th>Weight</th>\n",
       "      <th>Price_euros</th>\n",
       "    </tr>\n",
       "  </thead>\n",
       "  <tbody>\n",
       "    <tr>\n",
       "      <th>0</th>\n",
       "      <td>1</td>\n",
       "      <td>Apple</td>\n",
       "      <td>MacBook Pro</td>\n",
       "      <td>Ultrabook</td>\n",
       "      <td>13.3</td>\n",
       "      <td>IPS Panel Retina Display 2560x1600</td>\n",
       "      <td>Intel Core i5 2.3GHz</td>\n",
       "      <td>8GB</td>\n",
       "      <td>128GB SSD</td>\n",
       "      <td>Intel Iris Plus Graphics 640</td>\n",
       "      <td>macOS</td>\n",
       "      <td>1.37kg</td>\n",
       "      <td>1339.69</td>\n",
       "    </tr>\n",
       "    <tr>\n",
       "      <th>1</th>\n",
       "      <td>2</td>\n",
       "      <td>Apple</td>\n",
       "      <td>Macbook Air</td>\n",
       "      <td>Ultrabook</td>\n",
       "      <td>13.3</td>\n",
       "      <td>1440x900</td>\n",
       "      <td>Intel Core i5 1.8GHz</td>\n",
       "      <td>8GB</td>\n",
       "      <td>128GB Flash Storage</td>\n",
       "      <td>Intel HD Graphics 6000</td>\n",
       "      <td>macOS</td>\n",
       "      <td>1.34kg</td>\n",
       "      <td>898.94</td>\n",
       "    </tr>\n",
       "    <tr>\n",
       "      <th>2</th>\n",
       "      <td>3</td>\n",
       "      <td>HP</td>\n",
       "      <td>250 G6</td>\n",
       "      <td>Notebook</td>\n",
       "      <td>15.6</td>\n",
       "      <td>Full HD 1920x1080</td>\n",
       "      <td>Intel Core i5 7200U 2.5GHz</td>\n",
       "      <td>8GB</td>\n",
       "      <td>256GB SSD</td>\n",
       "      <td>Intel HD Graphics 620</td>\n",
       "      <td>No OS</td>\n",
       "      <td>1.86kg</td>\n",
       "      <td>575.00</td>\n",
       "    </tr>\n",
       "    <tr>\n",
       "      <th>3</th>\n",
       "      <td>4</td>\n",
       "      <td>Apple</td>\n",
       "      <td>MacBook Pro</td>\n",
       "      <td>Ultrabook</td>\n",
       "      <td>15.4</td>\n",
       "      <td>IPS Panel Retina Display 2880x1800</td>\n",
       "      <td>Intel Core i7 2.7GHz</td>\n",
       "      <td>16GB</td>\n",
       "      <td>512GB SSD</td>\n",
       "      <td>AMD Radeon Pro 455</td>\n",
       "      <td>macOS</td>\n",
       "      <td>1.83kg</td>\n",
       "      <td>2537.45</td>\n",
       "    </tr>\n",
       "    <tr>\n",
       "      <th>4</th>\n",
       "      <td>5</td>\n",
       "      <td>Apple</td>\n",
       "      <td>MacBook Pro</td>\n",
       "      <td>Ultrabook</td>\n",
       "      <td>13.3</td>\n",
       "      <td>IPS Panel Retina Display 2560x1600</td>\n",
       "      <td>Intel Core i5 3.1GHz</td>\n",
       "      <td>8GB</td>\n",
       "      <td>256GB SSD</td>\n",
       "      <td>Intel Iris Plus Graphics 650</td>\n",
       "      <td>macOS</td>\n",
       "      <td>1.37kg</td>\n",
       "      <td>1803.60</td>\n",
       "    </tr>\n",
       "  </tbody>\n",
       "</table>\n",
       "</div>"
      ],
      "text/plain": [
       "   laptop_ID Company      Product   TypeName  Inches  \\\n",
       "0          1   Apple  MacBook Pro  Ultrabook    13.3   \n",
       "1          2   Apple  Macbook Air  Ultrabook    13.3   \n",
       "2          3      HP       250 G6   Notebook    15.6   \n",
       "3          4   Apple  MacBook Pro  Ultrabook    15.4   \n",
       "4          5   Apple  MacBook Pro  Ultrabook    13.3   \n",
       "\n",
       "                     ScreenResolution                         Cpu   Ram  \\\n",
       "0  IPS Panel Retina Display 2560x1600        Intel Core i5 2.3GHz   8GB   \n",
       "1                            1440x900        Intel Core i5 1.8GHz   8GB   \n",
       "2                   Full HD 1920x1080  Intel Core i5 7200U 2.5GHz   8GB   \n",
       "3  IPS Panel Retina Display 2880x1800        Intel Core i7 2.7GHz  16GB   \n",
       "4  IPS Panel Retina Display 2560x1600        Intel Core i5 3.1GHz   8GB   \n",
       "\n",
       "                Memory                           Gpu  OpSys  Weight  \\\n",
       "0            128GB SSD  Intel Iris Plus Graphics 640  macOS  1.37kg   \n",
       "1  128GB Flash Storage        Intel HD Graphics 6000  macOS  1.34kg   \n",
       "2            256GB SSD         Intel HD Graphics 620  No OS  1.86kg   \n",
       "3            512GB SSD            AMD Radeon Pro 455  macOS  1.83kg   \n",
       "4            256GB SSD  Intel Iris Plus Graphics 650  macOS  1.37kg   \n",
       "\n",
       "   Price_euros  \n",
       "0      1339.69  \n",
       "1       898.94  \n",
       "2       575.00  \n",
       "3      2537.45  \n",
       "4      1803.60  "
      ]
     },
     "execution_count": 3,
     "metadata": {},
     "output_type": "execute_result"
    }
   ],
   "source": [
    "data.head()"
   ]
  },
  {
   "cell_type": "code",
   "execution_count": 4,
   "id": "dbed7e9e",
   "metadata": {
    "execution": {
     "iopub.execute_input": "2023-10-12T19:34:29.810842Z",
     "iopub.status.busy": "2023-10-12T19:34:29.810197Z",
     "iopub.status.idle": "2023-10-12T19:34:29.836087Z",
     "shell.execute_reply": "2023-10-12T19:34:29.834700Z"
    },
    "papermill": {
     "duration": 0.035992,
     "end_time": "2023-10-12T19:34:29.838546",
     "exception": false,
     "start_time": "2023-10-12T19:34:29.802554",
     "status": "completed"
    },
    "tags": []
   },
   "outputs": [
    {
     "name": "stdout",
     "output_type": "stream",
     "text": [
      "<class 'pandas.core.frame.DataFrame'>\n",
      "RangeIndex: 1303 entries, 0 to 1302\n",
      "Data columns (total 13 columns):\n",
      " #   Column            Non-Null Count  Dtype  \n",
      "---  ------            --------------  -----  \n",
      " 0   laptop_ID         1303 non-null   int64  \n",
      " 1   Company           1303 non-null   object \n",
      " 2   Product           1303 non-null   object \n",
      " 3   TypeName          1303 non-null   object \n",
      " 4   Inches            1303 non-null   float64\n",
      " 5   ScreenResolution  1303 non-null   object \n",
      " 6   Cpu               1303 non-null   object \n",
      " 7   Ram               1303 non-null   object \n",
      " 8   Memory            1303 non-null   object \n",
      " 9   Gpu               1303 non-null   object \n",
      " 10  OpSys             1303 non-null   object \n",
      " 11  Weight            1303 non-null   object \n",
      " 12  Price_euros       1303 non-null   float64\n",
      "dtypes: float64(2), int64(1), object(10)\n",
      "memory usage: 132.5+ KB\n"
     ]
    }
   ],
   "source": [
    "data.info()"
   ]
  },
  {
   "cell_type": "code",
   "execution_count": 5,
   "id": "1d7ce9a5",
   "metadata": {
    "execution": {
     "iopub.execute_input": "2023-10-12T19:34:29.853151Z",
     "iopub.status.busy": "2023-10-12T19:34:29.852535Z",
     "iopub.status.idle": "2023-10-12T19:34:30.601651Z",
     "shell.execute_reply": "2023-10-12T19:34:30.600486Z"
    },
    "papermill": {
     "duration": 0.759133,
     "end_time": "2023-10-12T19:34:30.604141",
     "exception": false,
     "start_time": "2023-10-12T19:34:29.845008",
     "status": "completed"
    },
    "tags": []
   },
   "outputs": [
    {
     "name": "stderr",
     "output_type": "stream",
     "text": [
      "/tmp/ipykernel_20/1623508889.py:6: MatplotlibDeprecationWarning: Auto-removal of overlapping axes is deprecated since 3.6 and will be removed two minor releases later; explicitly call ax.remove() as needed.\n",
      "  plt.subplot(1, 2, index)\n",
      "/tmp/ipykernel_20/1623508889.py:7: UserWarning: \n",
      "\n",
      "`distplot` is a deprecated function and will be removed in seaborn v0.14.0.\n",
      "\n",
      "Please adapt your code to use either `displot` (a figure-level function with\n",
      "similar flexibility) or `histplot` (an axes-level function for histograms).\n",
      "\n",
      "For a guide to updating your code to use the new functions, please see\n",
      "https://gist.github.com/mwaskom/de44147ed2974457ad6372750bbe5751\n",
      "\n",
      "  sns.distplot(data[i])\n",
      "/tmp/ipykernel_20/1623508889.py:7: UserWarning: \n",
      "\n",
      "`distplot` is a deprecated function and will be removed in seaborn v0.14.0.\n",
      "\n",
      "Please adapt your code to use either `displot` (a figure-level function with\n",
      "similar flexibility) or `histplot` (an axes-level function for histograms).\n",
      "\n",
      "For a guide to updating your code to use the new functions, please see\n",
      "https://gist.github.com/mwaskom/de44147ed2974457ad6372750bbe5751\n",
      "\n",
      "  sns.distplot(data[i])\n"
     ]
    },
    {
     "data": {
      "image/png": "[encoded data removed]",
      "text/plain": [
       "<Figure size 1500x800 with 2 Axes>"
      ]
     },
     "metadata": {},
     "output_type": "display_data"
    }
   ],
   "source": [
    "lis = ['Inches', 'Price_euros'] \n",
    "plt.subplots(figsize=(15, 8)) \n",
    "index = 1\n",
    "  \n",
    "for i in lis: \n",
    "    plt.subplot(1, 2, index) \n",
    "    sns.distplot(data[i]) \n",
    "    index += 1"
   ]
  },
  {
   "cell_type": "code",
   "execution_count": 6,
   "id": "2257e6be",
   "metadata": {
    "execution": {
     "iopub.execute_input": "2023-10-12T19:34:30.620929Z",
     "iopub.status.busy": "2023-10-12T19:34:30.620525Z",
     "iopub.status.idle": "2023-10-12T19:34:30.628330Z",
     "shell.execute_reply": "2023-10-12T19:34:30.627218Z"
    },
    "papermill": {
     "duration": 0.018836,
     "end_time": "2023-10-12T19:34:30.630567",
     "exception": false,
     "start_time": "2023-10-12T19:34:30.611731",
     "status": "completed"
    },
    "tags": []
   },
   "outputs": [],
   "source": [
    "data=data.drop(\"Product\",axis=1)\n",
    "data=data.drop(\"laptop_ID\",axis=1)"
   ]
  },
  {
   "cell_type": "code",
   "execution_count": 7,
   "id": "93c9874a",
   "metadata": {
    "execution": {
     "iopub.execute_input": "2023-10-12T19:34:30.647924Z",
     "iopub.status.busy": "2023-10-12T19:34:30.646892Z",
     "iopub.status.idle": "2023-10-12T19:34:30.663630Z",
     "shell.execute_reply": "2023-10-12T19:34:30.662414Z"
    },
    "papermill": {
     "duration": 0.027577,
     "end_time": "2023-10-12T19:34:30.665785",
     "exception": false,
     "start_time": "2023-10-12T19:34:30.638208",
     "status": "completed"
    },
    "tags": []
   },
   "outputs": [
    {
     "data": {
      "text/html": [
       "<div>\n",
       "<style scoped>\n",
       "    .dataframe tbody tr th:only-of-type {\n",
       "        vertical-align: middle;\n",
       "    }\n",
       "\n",
       "    .dataframe tbody tr th {\n",
       "        vertical-align: top;\n",
       "    }\n",
       "\n",
       "    .dataframe thead th {\n",
       "        text-align: right;\n",
       "    }\n",
       "</style>\n",
       "<table border=\"1\" class=\"dataframe\">\n",
       "  <thead>\n",
       "    <tr style=\"text-align: right;\">\n",
       "      <th></th>\n",
       "      <th>Company</th>\n",
       "      <th>TypeName</th>\n",
       "      <th>Inches</th>\n",
       "      <th>ScreenResolution</th>\n",
       "      <th>Cpu</th>\n",
       "      <th>Ram</th>\n",
       "      <th>Memory</th>\n",
       "      <th>Gpu</th>\n",
       "      <th>OpSys</th>\n",
       "      <th>Weight</th>\n",
       "      <th>Price_euros</th>\n",
       "    </tr>\n",
       "  </thead>\n",
       "  <tbody>\n",
       "    <tr>\n",
       "      <th>0</th>\n",
       "      <td>Apple</td>\n",
       "      <td>Ultrabook</td>\n",
       "      <td>13.3</td>\n",
       "      <td>IPS Panel Retina Display 2560x1600</td>\n",
       "      <td>Intel Core i5 2.3GHz</td>\n",
       "      <td>8GB</td>\n",
       "      <td>128GB SSD</td>\n",
       "      <td>Intel Iris Plus Graphics 640</td>\n",
       "      <td>macOS</td>\n",
       "      <td>1.37kg</td>\n",
       "      <td>1339.69</td>\n",
       "    </tr>\n",
       "    <tr>\n",
       "      <th>1</th>\n",
       "      <td>Apple</td>\n",
       "      <td>Ultrabook</td>\n",
       "      <td>13.3</td>\n",
       "      <td>1440x900</td>\n",
       "      <td>Intel Core i5 1.8GHz</td>\n",
       "      <td>8GB</td>\n",
       "      <td>128GB Flash Storage</td>\n",
       "      <td>Intel HD Graphics 6000</td>\n",
       "      <td>macOS</td>\n",
       "      <td>1.34kg</td>\n",
       "      <td>898.94</td>\n",
       "    </tr>\n",
       "    <tr>\n",
       "      <th>2</th>\n",
       "      <td>HP</td>\n",
       "      <td>Notebook</td>\n",
       "      <td>15.6</td>\n",
       "      <td>Full HD 1920x1080</td>\n",
       "      <td>Intel Core i5 7200U 2.5GHz</td>\n",
       "      <td>8GB</td>\n",
       "      <td>256GB SSD</td>\n",
       "      <td>Intel HD Graphics 620</td>\n",
       "      <td>No OS</td>\n",
       "      <td>1.86kg</td>\n",
       "      <td>575.00</td>\n",
       "    </tr>\n",
       "    <tr>\n",
       "      <th>3</th>\n",
       "      <td>Apple</td>\n",
       "      <td>Ultrabook</td>\n",
       "      <td>15.4</td>\n",
       "      <td>IPS Panel Retina Display 2880x1800</td>\n",
       "      <td>Intel Core i7 2.7GHz</td>\n",
       "      <td>16GB</td>\n",
       "      <td>512GB SSD</td>\n",
       "      <td>AMD Radeon Pro 455</td>\n",
       "      <td>macOS</td>\n",
       "      <td>1.83kg</td>\n",
       "      <td>2537.45</td>\n",
       "    </tr>\n",
       "    <tr>\n",
       "      <th>4</th>\n",
       "      <td>Apple</td>\n",
       "      <td>Ultrabook</td>\n",
       "      <td>13.3</td>\n",
       "      <td>IPS Panel Retina Display 2560x1600</td>\n",
       "      <td>Intel Core i5 3.1GHz</td>\n",
       "      <td>8GB</td>\n",
       "      <td>256GB SSD</td>\n",
       "      <td>Intel Iris Plus Graphics 650</td>\n",
       "      <td>macOS</td>\n",
       "      <td>1.37kg</td>\n",
       "      <td>1803.60</td>\n",
       "    </tr>\n",
       "  </tbody>\n",
       "</table>\n",
       "</div>"
      ],
      "text/plain": [
       "  Company   TypeName  Inches                    ScreenResolution  \\\n",
       "0   Apple  Ultrabook    13.3  IPS Panel Retina Display 2560x1600   \n",
       "1   Apple  Ultrabook    13.3                            1440x900   \n",
       "2      HP   Notebook    15.6                   Full HD 1920x1080   \n",
       "3   Apple  Ultrabook    15.4  IPS Panel Retina Display 2880x1800   \n",
       "4   Apple  Ultrabook    13.3  IPS Panel Retina Display 2560x1600   \n",
       "\n",
       "                          Cpu   Ram               Memory  \\\n",
       "0        Intel Core i5 2.3GHz   8GB            128GB SSD   \n",
       "1        Intel Core i5 1.8GHz   8GB  128GB Flash Storage   \n",
       "2  Intel Core i5 7200U 2.5GHz   8GB            256GB SSD   \n",
       "3        Intel Core i7 2.7GHz  16GB            512GB SSD   \n",
       "4        Intel Core i5 3.1GHz   8GB            256GB SSD   \n",
       "\n",
       "                            Gpu  OpSys  Weight  Price_euros  \n",
       "0  Intel Iris Plus Graphics 640  macOS  1.37kg      1339.69  \n",
       "1        Intel HD Graphics 6000  macOS  1.34kg       898.94  \n",
       "2         Intel HD Graphics 620  No OS  1.86kg       575.00  \n",
       "3            AMD Radeon Pro 455  macOS  1.83kg      2537.45  \n",
       "4  Intel Iris Plus Graphics 650  macOS  1.37kg      1803.60  "
      ]
     },
     "execution_count": 7,
     "metadata": {},
     "output_type": "execute_result"
    }
   ],
   "source": [
    "data.head()"
   ]
  },
  {
   "cell_type": "code",
   "execution_count": 8,
   "id": "a23615f0",
   "metadata": {
    "execution": {
     "iopub.execute_input": "2023-10-12T19:34:30.683669Z",
     "iopub.status.busy": "2023-10-12T19:34:30.682918Z",
     "iopub.status.idle": "2023-10-12T19:34:30.691272Z",
     "shell.execute_reply": "2023-10-12T19:34:30.690281Z"
    },
    "papermill": {
     "duration": 0.019662,
     "end_time": "2023-10-12T19:34:30.693292",
     "exception": false,
     "start_time": "2023-10-12T19:34:30.673630",
     "status": "completed"
    },
    "tags": []
   },
   "outputs": [
    {
     "data": {
      "text/plain": [
       "TypeName\n",
       "Notebook              727\n",
       "Gaming                205\n",
       "Ultrabook             196\n",
       "2 in 1 Convertible    121\n",
       "Workstation            29\n",
       "Netbook                25\n",
       "Name: count, dtype: int64"
      ]
     },
     "execution_count": 8,
     "metadata": {},
     "output_type": "execute_result"
    }
   ],
   "source": [
    "data.TypeName.value_counts()"
   ]
  },
  {
   "cell_type": "code",
   "execution_count": 9,
   "id": "bf56258f",
   "metadata": {
    "execution": {
     "iopub.execute_input": "2023-10-12T19:34:30.710823Z",
     "iopub.status.busy": "2023-10-12T19:34:30.710099Z",
     "iopub.status.idle": "2023-10-12T19:34:30.724418Z",
     "shell.execute_reply": "2023-10-12T19:34:30.723383Z"
    },
    "papermill": {
     "duration": 0.025594,
     "end_time": "2023-10-12T19:34:30.726579",
     "exception": false,
     "start_time": "2023-10-12T19:34:30.700985",
     "status": "completed"
    },
    "tags": []
   },
   "outputs": [],
   "source": [
    "data[\"ScreenResolution\"]=data.ScreenResolution.str.split(\" \").apply(lambda x: x[-1])\n",
    "x=data[\"ScreenResolution\"].str.split(\"x\").apply(lambda x: int(x[0]) * int(x[-1]) )\n",
    "#data.drop(\"ScreenResolution\",axis=1)\n",
    "data=data.assign(ScreenResolution=x)"
   ]
  },
  {
   "cell_type": "code",
   "execution_count": 10,
   "id": "812f07c6",
   "metadata": {
    "execution": {
     "iopub.execute_input": "2023-10-12T19:34:30.744215Z",
     "iopub.status.busy": "2023-10-12T19:34:30.743820Z",
     "iopub.status.idle": "2023-10-12T19:34:30.751614Z",
     "shell.execute_reply": "2023-10-12T19:34:30.750498Z"
    },
    "papermill": {
     "duration": 0.018979,
     "end_time": "2023-10-12T19:34:30.753494",
     "exception": false,
     "start_time": "2023-10-12T19:34:30.734515",
     "status": "completed"
    },
    "tags": []
   },
   "outputs": [
    {
     "data": {
      "text/plain": [
       "array(['Intel Core i5 2.3GHz', 'Intel Core i5 1.8GHz',\n",
       "       'Intel Core i5 7200U 2.5GHz', 'Intel Core i7 2.7GHz',\n",
       "       'Intel Core i5 3.1GHz', 'AMD A9-Series 9420 3GHz',\n",
       "       'Intel Core i7 2.2GHz', 'Intel Core i7 8550U 1.8GHz',\n",
       "       'Intel Core i5 8250U 1.6GHz', 'Intel Core i3 6006U 2GHz',\n",
       "       'Intel Core i7 2.8GHz', 'Intel Core M m3 1.2GHz',\n",
       "       'Intel Core i7 7500U 2.7GHz', 'Intel Core i7 2.9GHz',\n",
       "       'Intel Core i3 7100U 2.4GHz', 'Intel Atom x5-Z8350 1.44GHz',\n",
       "       'Intel Core i5 7300HQ 2.5GHz', 'AMD E-Series E2-9000e 1.5GHz',\n",
       "       'Intel Core i5 1.6GHz', 'Intel Core i7 8650U 1.9GHz',\n",
       "       'Intel Atom x5-Z8300 1.44GHz', 'AMD E-Series E2-6110 1.5GHz',\n",
       "       'AMD A6-Series 9220 2.5GHz',\n",
       "       'Intel Celeron Dual Core N3350 1.1GHz',\n",
       "       'Intel Core i3 7130U 2.7GHz', 'Intel Core i7 7700HQ 2.8GHz',\n",
       "       'Intel Core i5 2.0GHz', 'AMD Ryzen 1700 3GHz',\n",
       "       'Intel Pentium Quad Core N4200 1.1GHz',\n",
       "       'Intel Atom x5-Z8550 1.44GHz',\n",
       "       'Intel Celeron Dual Core N3060 1.6GHz', 'Intel Core i5 1.3GHz',\n",
       "       'AMD FX 9830P 3GHz', 'Intel Core i7 7560U 2.4GHz',\n",
       "       'AMD E-Series 6110 1.5GHz', 'Intel Core i5 6200U 2.3GHz',\n",
       "       'Intel Core M 6Y75 1.2GHz', 'Intel Core i5 7500U 2.7GHz',\n",
       "       'Intel Core i3 6006U 2.2GHz', 'AMD A6-Series 9220 2.9GHz',\n",
       "       'Intel Core i7 6920HQ 2.9GHz', 'Intel Core i5 7Y54 1.2GHz',\n",
       "       'Intel Core i7 7820HK 2.9GHz', 'Intel Xeon E3-1505M V6 3GHz',\n",
       "       'Intel Core i7 6500U 2.5GHz', 'AMD E-Series 9000e 1.5GHz',\n",
       "       'AMD A10-Series A10-9620P 2.5GHz', 'AMD A6-Series A6-9220 2.5GHz',\n",
       "       'Intel Core i5 2.9GHz', 'Intel Core i7 6600U 2.6GHz',\n",
       "       'Intel Core i3 6006U 2.0GHz',\n",
       "       'Intel Celeron Dual Core 3205U 1.5GHz',\n",
       "       'Intel Core i7 7820HQ 2.9GHz', 'AMD A10-Series 9600P 2.4GHz',\n",
       "       'Intel Core i7 7600U 2.8GHz', 'AMD A8-Series 7410 2.2GHz',\n",
       "       'Intel Celeron Dual Core 3855U 1.6GHz',\n",
       "       'Intel Pentium Quad Core N3710 1.6GHz',\n",
       "       'AMD A12-Series 9720P 2.7GHz', 'Intel Core i5 7300U 2.6GHz',\n",
       "       'AMD A12-Series 9720P 3.6GHz',\n",
       "       'Intel Celeron Quad Core N3450 1.1GHz',\n",
       "       'Intel Celeron Dual Core N3060 1.60GHz',\n",
       "       'Intel Core i5 6440HQ 2.6GHz', 'Intel Core i7 6820HQ 2.7GHz',\n",
       "       'AMD Ryzen 1600 3.2GHz', 'Intel Core i7 7Y75 1.3GHz',\n",
       "       'Intel Core i5 7440HQ 2.8GHz', 'Intel Core i7 7660U 2.5GHz',\n",
       "       'Intel Core i7 7700HQ 2.7GHz', 'Intel Core M m3-7Y30 2.2GHz',\n",
       "       'Intel Core i5 7Y57 1.2GHz', 'Intel Core i7 6700HQ 2.6GHz',\n",
       "       'Intel Core i3 6100U 2.3GHz', 'AMD A10-Series 9620P 2.5GHz',\n",
       "       'AMD E-Series 7110 1.8GHz', 'Intel Celeron Dual Core N3350 2.0GHz',\n",
       "       'AMD A9-Series A9-9420 3GHz', 'Intel Core i7 6820HK 2.7GHz',\n",
       "       'Intel Core M 7Y30 1.0GHz', 'Intel Xeon E3-1535M v6 3.1GHz',\n",
       "       'Intel Celeron Quad Core N3160 1.6GHz',\n",
       "       'Intel Core i5 6300U 2.4GHz', 'Intel Core i3 6100U 2.1GHz',\n",
       "       'AMD E-Series E2-9000 2.2GHz',\n",
       "       'Intel Celeron Dual Core N3050 1.6GHz',\n",
       "       'Intel Core M M3-6Y30 0.9GHz', 'AMD A9-Series 9420 2.9GHz',\n",
       "       'Intel Core i5 6300HQ 2.3GHz', 'AMD A6-Series 7310 2GHz',\n",
       "       'Intel Atom Z8350 1.92GHz', 'Intel Xeon E3-1535M v5 2.9GHz',\n",
       "       'Intel Core i5 6260U 1.8GHz',\n",
       "       'Intel Pentium Dual Core N4200 1.1GHz',\n",
       "       'Intel Celeron Quad Core N3710 1.6GHz', 'Intel Core M 1.2GHz',\n",
       "       'AMD A12-Series 9700P 2.5GHz', 'Intel Core i7 7500U 2.5GHz',\n",
       "       'Intel Pentium Dual Core 4405U 2.1GHz',\n",
       "       'AMD A4-Series 7210 2.2GHz', 'Intel Core i7 6560U 2.2GHz',\n",
       "       'Intel Core M m7-6Y75 1.2GHz', 'AMD FX 8800P 2.1GHz',\n",
       "       'Intel Core M M7-6Y75 1.2GHz', 'Intel Core i5 7200U 2.50GHz',\n",
       "       'Intel Core i5 7200U 2.70GHz', 'Intel Atom X5-Z8350 1.44GHz',\n",
       "       'Intel Core i5 7200U 2.7GHz', 'Intel Core M 1.1GHz',\n",
       "       'Intel Pentium Dual Core 4405Y 1.5GHz',\n",
       "       'Intel Pentium Quad Core N3700 1.6GHz', 'Intel Core M 6Y54 1.1GHz',\n",
       "       'Intel Core i7 6500U 2.50GHz',\n",
       "       'Intel Celeron Dual Core N3350 2GHz',\n",
       "       'Samsung Cortex A72&A53 2.0GHz', 'AMD E-Series 9000 2.2GHz',\n",
       "       'Intel Core M 6Y30 0.9GHz', 'AMD A9-Series 9410 2.9GHz'],\n",
       "      dtype=object)"
      ]
     },
     "execution_count": 10,
     "metadata": {},
     "output_type": "execute_result"
    }
   ],
   "source": [
    "data.Cpu.unique()"
   ]
  },
  {
   "cell_type": "code",
   "execution_count": 11,
   "id": "23fcb277",
   "metadata": {
    "execution": {
     "iopub.execute_input": "2023-10-12T19:34:30.770697Z",
     "iopub.status.busy": "2023-10-12T19:34:30.770351Z",
     "iopub.status.idle": "2023-10-12T19:34:30.783947Z",
     "shell.execute_reply": "2023-10-12T19:34:30.782981Z"
    },
    "papermill": {
     "duration": 0.024732,
     "end_time": "2023-10-12T19:34:30.786030",
     "exception": false,
     "start_time": "2023-10-12T19:34:30.761298",
     "status": "completed"
    },
    "tags": []
   },
   "outputs": [],
   "source": [
    "cpu_brand=data.Cpu.str.split(\" \").apply(lambda x: x[0])\n",
    "data[\"Cpu\"]=data.Cpu.str.split(\" \").apply(lambda x: x[-1])\n",
    "data[\"Cpu\"]=data.Cpu.apply(lambda x: x[0:len(x)-3])\n",
    "data[\"Cpu\"]=data.Cpu.apply(lambda x: float(x))\n",
    "data.insert(5,'cpu_brand',cpu_brand)"
   ]
  },
  {
   "cell_type": "code",
   "execution_count": 12,
   "id": "ff9e6bbe",
   "metadata": {
    "execution": {
     "iopub.execute_input": "2023-10-12T19:34:30.803735Z",
     "iopub.status.busy": "2023-10-12T19:34:30.803369Z",
     "iopub.status.idle": "2023-10-12T19:34:30.814110Z",
     "shell.execute_reply": "2023-10-12T19:34:30.813265Z"
    },
    "papermill": {
     "duration": 0.021962,
     "end_time": "2023-10-12T19:34:30.816058",
     "exception": false,
     "start_time": "2023-10-12T19:34:30.794096",
     "status": "completed"
    },
    "tags": []
   },
   "outputs": [
    {
     "data": {
      "text/plain": [
       "Ram\n",
       "8     619\n",
       "4     375\n",
       "16    200\n",
       "6      41\n",
       "12     25\n",
       "2      22\n",
       "32     17\n",
       "24      3\n",
       "64      1\n",
       "Name: count, dtype: int64"
      ]
     },
     "execution_count": 12,
     "metadata": {},
     "output_type": "execute_result"
    }
   ],
   "source": [
    "data[\"Ram\"]=data.Ram.apply(lambda x:int(x[0:len(x)-2]))\n",
    "data.Ram.value_counts()"
   ]
  },
  {
   "cell_type": "code",
   "execution_count": 13,
   "id": "0d552f21",
   "metadata": {
    "execution": {
     "iopub.execute_input": "2023-10-12T19:34:30.837025Z",
     "iopub.status.busy": "2023-10-12T19:34:30.836630Z",
     "iopub.status.idle": "2023-10-12T19:34:30.845741Z",
     "shell.execute_reply": "2023-10-12T19:34:30.844913Z"
    },
    "papermill": {
     "duration": 0.023462,
     "end_time": "2023-10-12T19:34:30.847808",
     "exception": false,
     "start_time": "2023-10-12T19:34:30.824346",
     "status": "completed"
    },
    "tags": []
   },
   "outputs": [],
   "source": [
    "memory_size=data.Memory.str.split(\" \").apply(lambda x: x[0])\n",
    "memory_size=[float(x[0:len(x)-2])*1024 if x[len(x)-2:]=='TB' else float(x[0:len(x)-2]) for x in memory_size]\n",
    "memory_size=[int(x) for x in memory_size]"
   ]
  },
  {
   "cell_type": "code",
   "execution_count": 14,
   "id": "0cfe3969",
   "metadata": {
    "execution": {
     "iopub.execute_input": "2023-10-12T19:34:30.866003Z",
     "iopub.status.busy": "2023-10-12T19:34:30.865627Z",
     "iopub.status.idle": "2023-10-12T19:34:30.874991Z",
     "shell.execute_reply": "2023-10-12T19:34:30.873809Z"
    },
    "papermill": {
     "duration": 0.020844,
     "end_time": "2023-10-12T19:34:30.877120",
     "exception": false,
     "start_time": "2023-10-12T19:34:30.856276",
     "status": "completed"
    },
    "tags": []
   },
   "outputs": [
    {
     "data": {
      "text/plain": [
       "array(['SSD', 'Flash', 'HDD', 'Hybrid'], dtype=object)"
      ]
     },
     "execution_count": 14,
     "metadata": {},
     "output_type": "execute_result"
    }
   ],
   "source": [
    "memory_type=data.Memory.str.split(\" \").apply(lambda x: x[1])\n",
    "memory_type.unique()"
   ]
  },
  {
   "cell_type": "code",
   "execution_count": 15,
   "id": "2f5d021e",
   "metadata": {
    "execution": {
     "iopub.execute_input": "2023-10-12T19:34:30.895046Z",
     "iopub.status.busy": "2023-10-12T19:34:30.894192Z",
     "iopub.status.idle": "2023-10-12T19:34:30.901963Z",
     "shell.execute_reply": "2023-10-12T19:34:30.900862Z"
    },
    "papermill": {
     "duration": 0.018869,
     "end_time": "2023-10-12T19:34:30.904075",
     "exception": false,
     "start_time": "2023-10-12T19:34:30.885206",
     "status": "completed"
    },
    "tags": []
   },
   "outputs": [],
   "source": [
    "data.insert(8,'memory_size',memory_size)\n",
    "data.insert(9,'memory_type',memory_type)\n",
    "data=data.drop('Memory',axis=1)"
   ]
  },
  {
   "cell_type": "code",
   "execution_count": 16,
   "id": "78abc786",
   "metadata": {
    "execution": {
     "iopub.execute_input": "2023-10-12T19:34:30.921888Z",
     "iopub.status.busy": "2023-10-12T19:34:30.921558Z",
     "iopub.status.idle": "2023-10-12T19:34:30.929731Z",
     "shell.execute_reply": "2023-10-12T19:34:30.928681Z"
    },
    "papermill": {
     "duration": 0.019539,
     "end_time": "2023-10-12T19:34:30.931643",
     "exception": false,
     "start_time": "2023-10-12T19:34:30.912104",
     "status": "completed"
    },
    "tags": []
   },
   "outputs": [
    {
     "data": {
      "text/plain": [
       "Gpu\n",
       "Intel HD Graphics 620      281\n",
       "Intel HD Graphics 520      185\n",
       "Intel UHD Graphics 620      68\n",
       "Nvidia GeForce GTX 1050     66\n",
       "Nvidia GeForce GTX 1060     48\n",
       "                          ... \n",
       "AMD Radeon R5 520            1\n",
       "AMD Radeon R7                1\n",
       "Intel HD Graphics 540        1\n",
       "AMD Radeon 540               1\n",
       "ARM Mali T860 MP4            1\n",
       "Name: count, Length: 110, dtype: int64"
      ]
     },
     "execution_count": 16,
     "metadata": {},
     "output_type": "execute_result"
    }
   ],
   "source": [
    "data.Gpu.value_counts()"
   ]
  },
  {
   "cell_type": "code",
   "execution_count": 17,
   "id": "cae79967",
   "metadata": {
    "execution": {
     "iopub.execute_input": "2023-10-12T19:34:30.949700Z",
     "iopub.status.busy": "2023-10-12T19:34:30.949315Z",
     "iopub.status.idle": "2023-10-12T19:34:30.957312Z",
     "shell.execute_reply": "2023-10-12T19:34:30.956200Z"
    },
    "papermill": {
     "duration": 0.019735,
     "end_time": "2023-10-12T19:34:30.959487",
     "exception": false,
     "start_time": "2023-10-12T19:34:30.939752",
     "status": "completed"
    },
    "tags": []
   },
   "outputs": [],
   "source": [
    "data[\"Gpu\"]=data.Gpu.str.split(\" \").apply(lambda x: x[0])"
   ]
  },
  {
   "cell_type": "code",
   "execution_count": 18,
   "id": "5e96db7c",
   "metadata": {
    "execution": {
     "iopub.execute_input": "2023-10-12T19:34:30.977763Z",
     "iopub.status.busy": "2023-10-12T19:34:30.977374Z",
     "iopub.status.idle": "2023-10-12T19:34:30.984113Z",
     "shell.execute_reply": "2023-10-12T19:34:30.983020Z"
    },
    "papermill": {
     "duration": 0.0181,
     "end_time": "2023-10-12T19:34:30.986180",
     "exception": false,
     "start_time": "2023-10-12T19:34:30.968080",
     "status": "completed"
    },
    "tags": []
   },
   "outputs": [],
   "source": [
    "data[\"Weight\"]=data.Weight.apply(lambda x: float(x[:len(x)-2]))"
   ]
  },
  {
   "cell_type": "code",
   "execution_count": 19,
   "id": "5e2fa341",
   "metadata": {
    "execution": {
     "iopub.execute_input": "2023-10-12T19:34:31.003956Z",
     "iopub.status.busy": "2023-10-12T19:34:31.003525Z",
     "iopub.status.idle": "2023-10-12T19:34:31.018965Z",
     "shell.execute_reply": "2023-10-12T19:34:31.018124Z"
    },
    "papermill": {
     "duration": 0.026598,
     "end_time": "2023-10-12T19:34:31.020693",
     "exception": false,
     "start_time": "2023-10-12T19:34:30.994095",
     "status": "completed"
    },
    "tags": []
   },
   "outputs": [
    {
     "data": {
      "text/html": [
       "<div>\n",
       "<style scoped>\n",
       "    .dataframe tbody tr th:only-of-type {\n",
       "        vertical-align: middle;\n",
       "    }\n",
       "\n",
       "    .dataframe tbody tr th {\n",
       "        vertical-align: top;\n",
       "    }\n",
       "\n",
       "    .dataframe thead th {\n",
       "        text-align: right;\n",
       "    }\n",
       "</style>\n",
       "<table border=\"1\" class=\"dataframe\">\n",
       "  <thead>\n",
       "    <tr style=\"text-align: right;\">\n",
       "      <th></th>\n",
       "      <th>Company</th>\n",
       "      <th>TypeName</th>\n",
       "      <th>Inches</th>\n",
       "      <th>ScreenResolution</th>\n",
       "      <th>Cpu</th>\n",
       "      <th>cpu_brand</th>\n",
       "      <th>Ram</th>\n",
       "      <th>memory_size</th>\n",
       "      <th>memory_type</th>\n",
       "      <th>Gpu</th>\n",
       "      <th>OpSys</th>\n",
       "      <th>Weight</th>\n",
       "      <th>Price_euros</th>\n",
       "    </tr>\n",
       "  </thead>\n",
       "  <tbody>\n",
       "    <tr>\n",
       "      <th>0</th>\n",
       "      <td>Apple</td>\n",
       "      <td>Ultrabook</td>\n",
       "      <td>13.3</td>\n",
       "      <td>4096000</td>\n",
       "      <td>2.3</td>\n",
       "      <td>Intel</td>\n",
       "      <td>8</td>\n",
       "      <td>128</td>\n",
       "      <td>SSD</td>\n",
       "      <td>Intel</td>\n",
       "      <td>macOS</td>\n",
       "      <td>1.37</td>\n",
       "      <td>1339.69</td>\n",
       "    </tr>\n",
       "    <tr>\n",
       "      <th>1</th>\n",
       "      <td>Apple</td>\n",
       "      <td>Ultrabook</td>\n",
       "      <td>13.3</td>\n",
       "      <td>1296000</td>\n",
       "      <td>1.8</td>\n",
       "      <td>Intel</td>\n",
       "      <td>8</td>\n",
       "      <td>128</td>\n",
       "      <td>Flash</td>\n",
       "      <td>Intel</td>\n",
       "      <td>macOS</td>\n",
       "      <td>1.34</td>\n",
       "      <td>898.94</td>\n",
       "    </tr>\n",
       "    <tr>\n",
       "      <th>2</th>\n",
       "      <td>HP</td>\n",
       "      <td>Notebook</td>\n",
       "      <td>15.6</td>\n",
       "      <td>2073600</td>\n",
       "      <td>2.5</td>\n",
       "      <td>Intel</td>\n",
       "      <td>8</td>\n",
       "      <td>256</td>\n",
       "      <td>SSD</td>\n",
       "      <td>Intel</td>\n",
       "      <td>No OS</td>\n",
       "      <td>1.86</td>\n",
       "      <td>575.00</td>\n",
       "    </tr>\n",
       "    <tr>\n",
       "      <th>3</th>\n",
       "      <td>Apple</td>\n",
       "      <td>Ultrabook</td>\n",
       "      <td>15.4</td>\n",
       "      <td>5184000</td>\n",
       "      <td>2.7</td>\n",
       "      <td>Intel</td>\n",
       "      <td>16</td>\n",
       "      <td>512</td>\n",
       "      <td>SSD</td>\n",
       "      <td>AMD</td>\n",
       "      <td>macOS</td>\n",
       "      <td>1.83</td>\n",
       "      <td>2537.45</td>\n",
       "    </tr>\n",
       "    <tr>\n",
       "      <th>4</th>\n",
       "      <td>Apple</td>\n",
       "      <td>Ultrabook</td>\n",
       "      <td>13.3</td>\n",
       "      <td>4096000</td>\n",
       "      <td>3.1</td>\n",
       "      <td>Intel</td>\n",
       "      <td>8</td>\n",
       "      <td>256</td>\n",
       "      <td>SSD</td>\n",
       "      <td>Intel</td>\n",
       "      <td>macOS</td>\n",
       "      <td>1.37</td>\n",
       "      <td>1803.60</td>\n",
       "    </tr>\n",
       "  </tbody>\n",
       "</table>\n",
       "</div>"
      ],
      "text/plain": [
       "  Company   TypeName  Inches  ScreenResolution  Cpu cpu_brand  Ram  \\\n",
       "0   Apple  Ultrabook    13.3           4096000  2.3     Intel    8   \n",
       "1   Apple  Ultrabook    13.3           1296000  1.8     Intel    8   \n",
       "2      HP   Notebook    15.6           2073600  2.5     Intel    8   \n",
       "3   Apple  Ultrabook    15.4           5184000  2.7     Intel   16   \n",
       "4   Apple  Ultrabook    13.3           4096000  3.1     Intel    8   \n",
       "\n",
       "   memory_size memory_type    Gpu  OpSys  Weight  Price_euros  \n",
       "0          128         SSD  Intel  macOS    1.37      1339.69  \n",
       "1          128       Flash  Intel  macOS    1.34       898.94  \n",
       "2          256         SSD  Intel  No OS    1.86       575.00  \n",
       "3          512         SSD    AMD  macOS    1.83      2537.45  \n",
       "4          256         SSD  Intel  macOS    1.37      1803.60  "
      ]
     },
     "execution_count": 19,
     "metadata": {},
     "output_type": "execute_result"
    }
   ],
   "source": [
    "data.head()"
   ]
  },
  {
   "cell_type": "code",
   "execution_count": 20,
   "id": "d30d92a7",
   "metadata": {
    "execution": {
     "iopub.execute_input": "2023-10-12T19:34:31.039028Z",
     "iopub.status.busy": "2023-10-12T19:34:31.038610Z",
     "iopub.status.idle": "2023-10-12T19:34:31.051987Z",
     "shell.execute_reply": "2023-10-12T19:34:31.050699Z"
    },
    "papermill": {
     "duration": 0.024858,
     "end_time": "2023-10-12T19:34:31.053979",
     "exception": false,
     "start_time": "2023-10-12T19:34:31.029121",
     "status": "completed"
    },
    "tags": []
   },
   "outputs": [
    {
     "name": "stdout",
     "output_type": "stream",
     "text": [
      "<class 'pandas.core.frame.DataFrame'>\n",
      "RangeIndex: 1303 entries, 0 to 1302\n",
      "Data columns (total 13 columns):\n",
      " #   Column            Non-Null Count  Dtype  \n",
      "---  ------            --------------  -----  \n",
      " 0   Company           1303 non-null   object \n",
      " 1   TypeName          1303 non-null   object \n",
      " 2   Inches            1303 non-null   float64\n",
      " 3   ScreenResolution  1303 non-null   int64  \n",
      " 4   Cpu               1303 non-null   float64\n",
      " 5   cpu_brand         1303 non-null   object \n",
      " 6   Ram               1303 non-null   int64  \n",
      " 7   memory_size       1303 non-null   int64  \n",
      " 8   memory_type       1303 non-null   object \n",
      " 9   Gpu               1303 non-null   object \n",
      " 10  OpSys             1303 non-null   object \n",
      " 11  Weight            1303 non-null   float64\n",
      " 12  Price_euros       1303 non-null   float64\n",
      "dtypes: float64(4), int64(3), object(6)\n",
      "memory usage: 132.5+ KB\n"
     ]
    }
   ],
   "source": [
    "data.info()"
   ]
  },
  {
   "cell_type": "code",
   "execution_count": 21,
   "id": "966a084f",
   "metadata": {
    "execution": {
     "iopub.execute_input": "2023-10-12T19:34:31.073071Z",
     "iopub.status.busy": "2023-10-12T19:34:31.071921Z",
     "iopub.status.idle": "2023-10-12T19:34:31.083773Z",
     "shell.execute_reply": "2023-10-12T19:34:31.082952Z"
    },
    "papermill": {
     "duration": 0.023702,
     "end_time": "2023-10-12T19:34:31.086221",
     "exception": false,
     "start_time": "2023-10-12T19:34:31.062519",
     "status": "completed"
    },
    "tags": []
   },
   "outputs": [],
   "source": [
    "cols=['Inches','ScreenResolution','Cpu','Ram','memory_size','Weight','Price_euros']\n",
    "scaler = StandardScaler()\n",
    "scaler.fit(data[cols])\n",
    "sc=scaler.transform(data[cols])\n",
    "data[cols]=sc"
   ]
  },
  {
   "cell_type": "code",
   "execution_count": 22,
   "id": "56f5acda",
   "metadata": {
    "execution": {
     "iopub.execute_input": "2023-10-12T19:34:31.105019Z",
     "iopub.status.busy": "2023-10-12T19:34:31.103894Z",
     "iopub.status.idle": "2023-10-12T19:34:31.613485Z",
     "shell.execute_reply": "2023-10-12T19:34:31.612378Z"
    },
    "papermill": {
     "duration": 0.521146,
     "end_time": "2023-10-12T19:34:31.615640",
     "exception": false,
     "start_time": "2023-10-12T19:34:31.094494",
     "status": "completed"
    },
    "tags": []
   },
   "outputs": [
    {
     "data": {
      "image/png": "[encoded data removed]",
      "text/plain": [
       "<Figure size 640x480 with 2 Axes>"
      ]
     },
     "metadata": {},
     "output_type": "display_data"
    }
   ],
   "source": [
    "dataplot = sns.heatmap(data[cols].corr(), cmap=\"YlGnBu\", annot=True) \n",
    "plt.show()"
   ]
  },
  {
   "cell_type": "code",
   "execution_count": 23,
   "id": "a9c79bb1",
   "metadata": {
    "execution": {
     "iopub.execute_input": "2023-10-12T19:34:31.641297Z",
     "iopub.status.busy": "2023-10-12T19:34:31.640886Z",
     "iopub.status.idle": "2023-10-12T19:34:31.648378Z",
     "shell.execute_reply": "2023-10-12T19:34:31.647136Z"
    },
    "papermill": {
     "duration": 0.021473,
     "end_time": "2023-10-12T19:34:31.650706",
     "exception": false,
     "start_time": "2023-10-12T19:34:31.629233",
     "status": "completed"
    },
    "tags": []
   },
   "outputs": [],
   "source": [
    "data=data.drop('Weight',axis=1)"
   ]
  },
  {
   "cell_type": "code",
   "execution_count": 24,
   "id": "4d9b816b",
   "metadata": {
    "execution": {
     "iopub.execute_input": "2023-10-12T19:34:31.671853Z",
     "iopub.status.busy": "2023-10-12T19:34:31.671511Z",
     "iopub.status.idle": "2023-10-12T19:34:31.754730Z",
     "shell.execute_reply": "2023-10-12T19:34:31.753537Z"
    },
    "papermill": {
     "duration": 0.096503,
     "end_time": "2023-10-12T19:34:31.757137",
     "exception": false,
     "start_time": "2023-10-12T19:34:31.660634",
     "status": "completed"
    },
    "tags": []
   },
   "outputs": [],
   "source": [
    "encoder = OneHotEncoder()\n",
    "encoder.fit(data)\n",
    "data = encoder.transform(data)"
   ]
  },
  {
   "cell_type": "code",
   "execution_count": 25,
   "id": "4e7e3fac",
   "metadata": {
    "execution": {
     "iopub.execute_input": "2023-10-12T19:34:31.779255Z",
     "iopub.status.busy": "2023-10-12T19:34:31.778425Z",
     "iopub.status.idle": "2023-10-12T19:34:31.785334Z",
     "shell.execute_reply": "2023-10-12T19:34:31.784328Z"
    },
    "papermill": {
     "duration": 0.020567,
     "end_time": "2023-10-12T19:34:31.787390",
     "exception": false,
     "start_time": "2023-10-12T19:34:31.766823",
     "status": "completed"
    },
    "tags": []
   },
   "outputs": [
    {
     "data": {
      "text/plain": [
       "(1303, 51)"
      ]
     },
     "execution_count": 25,
     "metadata": {},
     "output_type": "execute_result"
    }
   ],
   "source": [
    "data.shape"
   ]
  },
  {
   "cell_type": "code",
   "execution_count": 26,
   "id": "e7e8faae",
   "metadata": {
    "execution": {
     "iopub.execute_input": "2023-10-12T19:34:31.818681Z",
     "iopub.status.busy": "2023-10-12T19:34:31.818173Z",
     "iopub.status.idle": "2023-10-12T19:34:31.828604Z",
     "shell.execute_reply": "2023-10-12T19:34:31.827635Z"
    },
    "papermill": {
     "duration": 0.034556,
     "end_time": "2023-10-12T19:34:31.832396",
     "exception": false,
     "start_time": "2023-10-12T19:34:31.797840",
     "status": "completed"
    },
    "tags": []
   },
   "outputs": [],
   "source": [
    "y=data['Price_euros']\n",
    "x=data.drop('Price_euros',axis=1)\n",
    "x_train, x_test, y_train, y_test = train_test_split(x, y,test_size=0.15,random_state=40)"
   ]
  },
  {
   "cell_type": "code",
   "execution_count": 27,
   "id": "8976d76d",
   "metadata": {
    "execution": {
     "iopub.execute_input": "2023-10-12T19:34:31.855012Z",
     "iopub.status.busy": "2023-10-12T19:34:31.853896Z",
     "iopub.status.idle": "2023-10-12T19:34:32.360122Z",
     "shell.execute_reply": "2023-10-12T19:34:32.358812Z"
    },
    "papermill": {
     "duration": 0.519984,
     "end_time": "2023-10-12T19:34:32.362498",
     "exception": false,
     "start_time": "2023-10-12T19:34:31.842514",
     "status": "completed"
    },
    "tags": []
   },
   "outputs": [
    {
     "data": {
      "text/html": [
       "<style>#sk-container-id-1 {color: black;background-color: white;}#sk-container-id-1 pre{padding: 0;}#sk-container-id-1 div.sk-toggleable {background-color: white;}#sk-container-id-1 label.sk-toggleable__label {cursor: pointer;display: block;width: 100%;margin-bottom: 0;padding: 0.3em;box-sizing: border-box;text-align: center;}#sk-container-id-1 label.sk-toggleable__label-arrow:before {content: \"▸\";float: left;margin-right: 0.25em;color: #696969;}#sk-container-id-1 label.sk-toggleable__label-arrow:hover:before {color: black;}#sk-container-id-1 div.sk-estimator:hover label.sk-toggleable__label-arrow:before {color: black;}#sk-container-id-1 div.sk-toggleable__content {max-height: 0;max-width: 0;overflow: hidden;text-align: left;background-color: #f0f8ff;}#sk-container-id-1 div.sk-toggleable__content pre {margin: 0.2em;color: black;border-radius: 0.25em;background-color: #f0f8ff;}#sk-container-id-1 input.sk-toggleable__control:checked~div.sk-toggleable__content {max-height: 200px;max-width: 100%;overflow: auto;}#sk-container-id-1 input.sk-toggleable__control:checked~label.sk-toggleable__label-arrow:before {content: \"▾\";}#sk-container-id-1 div.sk-estimator input.sk-toggleable__control:checked~label.sk-toggleable__label {background-color: #d4ebff;}#sk-container-id-1 div.sk-label input.sk-toggleable__control:checked~label.sk-toggleable__label {background-color: #d4ebff;}#sk-container-id-1 input.sk-hidden--visually {border: 0;clip: rect(1px 1px 1px 1px);clip: rect(1px, 1px, 1px, 1px);height: 1px;margin: -1px;overflow: hidden;padding: 0;position: absolute;width: 1px;}#sk-container-id-1 div.sk-estimator {font-family: monospace;background-color: #f0f8ff;border: 1px dotted black;border-radius: 0.25em;box-sizing: border-box;margin-bottom: 0.5em;}#sk-container-id-1 div.sk-estimator:hover {background-color: #d4ebff;}#sk-container-id-1 div.sk-parallel-item::after {content: \"\";width: 100%;border-bottom: 1px solid gray;flex-grow: 1;}#sk-container-id-1 div.sk-label:hover label.sk-toggleable__label {background-color: #d4ebff;}#sk-container-id-1 div.sk-serial::before {content: \"\";position: absolute;border-left: 1px solid gray;box-sizing: border-box;top: 0;bottom: 0;left: 50%;z-index: 0;}#sk-container-id-1 div.sk-serial {display: flex;flex-direction: column;align-items: center;background-color: white;padding-right: 0.2em;padding-left: 0.2em;position: relative;}#sk-container-id-1 div.sk-item {position: relative;z-index: 1;}#sk-container-id-1 div.sk-parallel {display: flex;align-items: stretch;justify-content: center;background-color: white;position: relative;}#sk-container-id-1 div.sk-item::before, #sk-container-id-1 div.sk-parallel-item::before {content: \"\";position: absolute;border-left: 1px solid gray;box-sizing: border-box;top: 0;bottom: 0;left: 50%;z-index: -1;}#sk-container-id-1 div.sk-parallel-item {display: flex;flex-direction: column;z-index: 1;position: relative;background-color: white;}#sk-container-id-1 div.sk-parallel-item:first-child::after {align-self: flex-end;width: 50%;}#sk-container-id-1 div.sk-parallel-item:last-child::after {align-self: flex-start;width: 50%;}#sk-container-id-1 div.sk-parallel-item:only-child::after {width: 0;}#sk-container-id-1 div.sk-dashed-wrapped {border: 1px dashed gray;margin: 0 0.4em 0.5em 0.4em;box-sizing: border-box;padding-bottom: 0.4em;background-color: white;}#sk-container-id-1 div.sk-label label {font-family: monospace;font-weight: bold;display: inline-block;line-height: 1.2em;}#sk-container-id-1 div.sk-label-container {text-align: center;}#sk-container-id-1 div.sk-container {/* jupyter's `normalize.less` sets `[hidden] { display: none; }` but bootstrap.min.css set `[hidden] { display: none !important; }` so we also need the `!important` here to be able to override the default hidden behavior on the sphinx rendered scikit-learn.org. See: https://github.com/scikit-learn/scikit-learn/issues/21755 */display: inline-block !important;position: relative;}#sk-container-id-1 div.sk-text-repr-fallback {display: none;}</style><div id=\"sk-container-id-1\" class=\"sk-top-container\"><div class=\"sk-text-repr-fallback\"><pre>RandomForestRegressor(max_depth=20, max_features=&#x27;sqrt&#x27;, n_estimators=150,\n",
       "                      oob_score=True, random_state=20)</pre><b>In a Jupyter environment, please rerun this cell to show the HTML representation or trust the notebook. <br />On GitHub, the HTML representation is unable to render, please try loading this page with nbviewer.org.</b></div><div class=\"sk-container\" hidden><div class=\"sk-item\"><div class=\"sk-estimator sk-toggleable\"><input class=\"sk-toggleable__control sk-hidden--visually\" id=\"sk-estimator-id-1\" type=\"checkbox\" checked><label for=\"sk-estimator-id-1\" class=\"sk-toggleable__label sk-toggleable__label-arrow\">RandomForestRegressor</label><div class=\"sk-toggleable__content\"><pre>RandomForestRegressor(max_depth=20, max_features=&#x27;sqrt&#x27;, n_estimators=150,\n",
       "                      oob_score=True, random_state=20)</pre></div></div></div></div></div>"
      ],
      "text/plain": [
       "RandomForestRegressor(max_depth=20, max_features='sqrt', n_estimators=150,\n",
       "                      oob_score=True, random_state=20)"
      ]
     },
     "execution_count": 27,
     "metadata": {},
     "output_type": "execute_result"
    }
   ],
   "source": [
    "kwargs = {\n",
    "    'n_estimators': 150,\n",
    "    'criterion': 'squared_error',\n",
    "    'max_depth': 20,\n",
    "    'min_samples_split': 2,\n",
    "    'min_samples_leaf': 1,\n",
    "    'min_weight_fraction_leaf': 0.00,\n",
    "    'max_features': 'sqrt',\n",
    "    'max_leaf_nodes': None,\n",
    "    'min_impurity_decrease': 0.0,\n",
    "    'bootstrap': True,\n",
    "    'oob_score': True,\n",
    "    'n_jobs': None,\n",
    "    'random_state': 20,\n",
    "    'verbose': 0,\n",
    "    'warm_start': False,\n",
    "    'ccp_alpha': 0.00,\n",
    "    'max_samples': None,\n",
    "}\n",
    "rfc = RandomForestRegressor(**kwargs)\n",
    "rfc.fit(x_train,y_train)\n"
   ]
  },
  {
   "cell_type": "code",
   "execution_count": 28,
   "id": "5d7d935b",
   "metadata": {
    "execution": {
     "iopub.execute_input": "2023-10-12T19:34:32.385836Z",
     "iopub.status.busy": "2023-10-12T19:34:32.385141Z",
     "iopub.status.idle": "2023-10-12T19:34:32.390684Z",
     "shell.execute_reply": "2023-10-12T19:34:32.389575Z"
    },
    "papermill": {
     "duration": 0.020626,
     "end_time": "2023-10-12T19:34:32.393500",
     "exception": false,
     "start_time": "2023-10-12T19:34:32.372874",
     "status": "completed"
    },
    "tags": []
   },
   "outputs": [
    {
     "name": "stdout",
     "output_type": "stream",
     "text": [
      "0.8350771114328703\n"
     ]
    }
   ],
   "source": [
    "print(rfc.oob_score_)"
   ]
  },
  {
   "cell_type": "code",
   "execution_count": 29,
   "id": "57328b76",
   "metadata": {
    "execution": {
     "iopub.execute_input": "2023-10-12T19:34:32.416752Z",
     "iopub.status.busy": "2023-10-12T19:34:32.416133Z",
     "iopub.status.idle": "2023-10-12T19:34:32.437398Z",
     "shell.execute_reply": "2023-10-12T19:34:32.435990Z"
    },
    "papermill": {
     "duration": 0.035646,
     "end_time": "2023-10-12T19:34:32.439584",
     "exception": false,
     "start_time": "2023-10-12T19:34:32.403938",
     "status": "completed"
    },
    "tags": []
   },
   "outputs": [
    {
     "name": "stdout",
     "output_type": "stream",
     "text": [
      "0.8321168236792957\n"
     ]
    }
   ],
   "source": [
    "print(rfc.score(x_test,y_test))"
   ]
  },
  {
   "cell_type": "code",
   "execution_count": 30,
   "id": "41641903",
   "metadata": {
    "execution": {
     "iopub.execute_input": "2023-10-12T19:34:32.462823Z",
     "iopub.status.busy": "2023-10-12T19:34:32.462053Z",
     "iopub.status.idle": "2023-10-12T19:34:32.497010Z",
     "shell.execute_reply": "2023-10-12T19:34:32.495817Z"
    },
    "papermill": {
     "duration": 0.049046,
     "end_time": "2023-10-12T19:34:32.499302",
     "exception": false,
     "start_time": "2023-10-12T19:34:32.450256",
     "status": "completed"
    },
    "tags": []
   },
   "outputs": [
    {
     "name": "stdout",
     "output_type": "stream",
     "text": [
      "1.0\n"
     ]
    }
   ],
   "source": [
    "y_pred=rfc.predict(x_test)\n",
    "print(rfc.score(x_test,y_pred))"
   ]
  }
 ],
 "metadata": {
  "kernelspec": {
   "display_name": "Python 3",
   "language": "python",
   "name": "python3"
  },
  "language_info": {
   "codemirror_mode": {
    "name": "ipython",
    "version": 3
   },
   "file_extension": ".py",
   "mimetype": "text/x-python",
   "name": "python",
   "nbconvert_exporter": "python",
   "pygments_lexer": "ipython3",
   "version": "3.10.12"
  },
  "papermill": {
   "default_parameters": {},
   "duration": 10.001917,
   "end_time": "2023-10-12T19:34:33.234065",
   "environment_variables": {},
   "exception": null,
   "input_path": "__notebook__.ipynb",
   "output_path": "__notebook__.ipynb",
   "parameters": {},
   "start_time": "2023-10-12T19:34:23.232148",
   "version": "2.4.0"
  }
 },
 "nbformat": 4,
 "nbformat_minor": 5
}
